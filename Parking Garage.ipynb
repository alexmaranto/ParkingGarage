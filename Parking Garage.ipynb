{
 "cells": [
  {
   "cell_type": "code",
   "execution_count": null,
   "id": "96b655f3",
   "metadata": {},
   "outputs": [
    {
     "name": "stdout",
     "output_type": "stream",
     "text": [
      "Ticket number 1 issued. Park at space 1\n",
      "Enter your ticket number: 1\n",
      "Enter the payment amount: 0\n",
      "Payment successful. You have 15 minutes to leave.\n"
     ]
    }
   ],
   "source": [
    "class ParkingGarage:\n",
    "    def __init__(self, total_tickets, total_parking_spaces):\n",
    "        self.tickets = list(range(1, total_tickets + 1))\n",
    "        self.parkingSpaces = list(range(1, total_parking_spaces + 1))\n",
    "        self.currentTicket = {}\n",
    "\n",
    "    def takeTicket(self):\n",
    "        if self.tickets:\n",
    "            ticket_number = self.tickets.pop(0)\n",
    "            parking_space = self.parkingSpaces.pop(0)\n",
    "            self.currentTicket[ticket_number] = {\"paid\": False, \"parking_space\": parking_space}\n",
    "            print(f\"Ticket number {ticket_number} issued. Park at space {parking_space}\")\n",
    "        else:\n",
    "            print(\"Sorry, the parking garage is full.\")\n",
    "\n",
    "    def payForParking(self):\n",
    "        ticket_number = int(input(\"Enter your ticket number: \"))\n",
    "        if ticket_number in self.currentTicket and not self.currentTicket[ticket_number][\"paid\"]:\n",
    "            payment = input(\"Enter the payment amount: \")\n",
    "            if payment:\n",
    "                self.currentTicket[ticket_number][\"paid\"] = True\n",
    "                print(\"Payment successful. You have 15 minutes to leave.\")\n",
    "            else:\n",
    "                print(\"Payment failed. Please try again.\")\n",
    "        else:\n",
    "            print(\"Invalid ticket number or ticket already paid.\")\n",
    "\n",
    "    def leaveGarage(self):\n",
    "        ticket_number = int(input(\"Enter your ticket number: \"))\n",
    "        if ticket_number in self.currentTicket:\n",
    "            if self.currentTicket[ticket_number][\"paid\"]:\n",
    "                print(\"Thank you, have a nice day!\")\n",
    "                self.parkingSpaces.append(self.currentTicket[ticket_number][\"parking_space\"])\n",
    "                self.tickets.append(ticket_number)\n",
    "                del self.currentTicket[ticket_number]\n",
    "            else:\n",
    "                payment = input(\"Please pay for parking: \")\n",
    "                if payment:\n",
    "                    print(\"Payment successful. Thank you, have a nice day!\")\n",
    "                    self.currentTicket[ticket_number][\"paid\"] = True\n",
    "                    self.parkingSpaces.append(self.currentTicket[ticket_number][\"parking_space\"])\n",
    "                    self.tickets.append(ticket_number)\n",
    "                else:\n",
    "                    print(\"Payment failed. Please try again.\")\n",
    "        else:\n",
    "            print(\"Invalid ticket number.\")\n",
    "\n",
    "\n",
    "parking_garage = ParkingGarage(total_tickets=10, total_parking_spaces=10)\n",
    "parking_garage.takeTicket()\n",
    "parking_garage.payForParking()\n",
    "parking_garage.leaveGarage()\n"
   ]
  },
  {
   "cell_type": "code",
   "execution_count": null,
   "id": "8bd0ade4",
   "metadata": {},
   "outputs": [],
   "source": []
  }
 ],
 "metadata": {
  "kernelspec": {
   "display_name": "Python 3 (ipykernel)",
   "language": "python",
   "name": "python3"
  },
  "language_info": {
   "codemirror_mode": {
    "name": "ipython",
    "version": 3
   },
   "file_extension": ".py",
   "mimetype": "text/x-python",
   "name": "python",
   "nbconvert_exporter": "python",
   "pygments_lexer": "ipython3",
   "version": "3.10.9"
  }
 },
 "nbformat": 4,
 "nbformat_minor": 5
}
